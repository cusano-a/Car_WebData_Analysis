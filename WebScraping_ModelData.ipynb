{
 "cells": [
  {
   "cell_type": "code",
   "execution_count": 1,
   "metadata": {},
   "outputs": [],
   "source": [
    "import pandas as pd\n",
    "import numpy as np\n",
    "import matplotlib.pyplot as plt\n",
    "import seaborn as sns\n",
    "import os\n",
    "import sklearn\n",
    "\n",
    "from sklearn.utils import shuffle\n",
    "from sklearn.model_selection import train_test_split, GridSearchCV\n",
    "from sklearn.metrics import mean_squared_error, mean_absolute_error\n",
    "from sklearn.metrics import make_scorer\n",
    "from pandas.api.types import CategoricalDtype\n",
    "from time import perf_counter\n",
    "from xgboost import XGBRegressor\n",
    "\n",
    "\n",
    "from sklearn.ensemble import RandomForestRegressor\n",
    "from sklearn.linear_model import LinearRegression, Ridge\n",
    "from sklearn.compose import make_column_transformer\n",
    "from sklearn.preprocessing import StandardScaler, OneHotEncoder, PolynomialFeatures\n",
    "from sklearn.pipeline import make_pipeline\n",
    "from sklearn.impute import SimpleImputer"
   ]
  },
  {
   "cell_type": "code",
   "execution_count": 15,
   "metadata": {},
   "outputs": [],
   "source": [
    "%matplotlib inline\n",
    "sns.set_theme()"
   ]
  },
  {
   "cell_type": "markdown",
   "metadata": {},
   "source": [
    "## Loding Data"
   ]
  },
  {
   "cell_type": "markdown",
   "metadata": {},
   "source": [
    "Load the full car datset. Keep only a subset of columns useful for prediction.\n",
    "Drop samples with key features missing (mileage, age, price, power). Split the df in train and test. "
   ]
  },
  {
   "cell_type": "code",
   "execution_count": 2,
   "metadata": {},
   "outputs": [],
   "source": [
    "file_path = os.path.join(\"data\", \"autoscout_dataset.csv\")\n",
    "df_raw = pd.read_csv(file_path, sep=\";\", index_col=\"url\")"
   ]
  },
  {
   "cell_type": "code",
   "execution_count": 3,
   "metadata": {},
   "outputs": [],
   "source": [
    "final_col = ['Carburante',\n",
    "                 'Carrozzeria',\n",
    "                 'Chilometraggio',\n",
    "                 'Cilindrata_cm3',\n",
    "                 'Cilindri',\n",
    "                 'Colore',\n",
    "                 'Consumo_comb_L100km',\n",
    "                 'Consumo_extraurb_L100km',\n",
    "                 'Consumo_urb_L100km',\n",
    "                 'Marce',\n",
    "                 'Peso_a_vuoto_kg',\n",
    "                 'Tagliandi_certificati',\n",
    "                 'Tipo_di_cambio',\n",
    "                 'Trazione',\n",
    "                 'country',\n",
    "                 'makeId',\n",
    "                 'maker',\n",
    "                 'model',\n",
    "                 'modelOrModelLineId',\n",
    "                 'potenza_kw',\n",
    "                 'price',\n",
    "                 'unico_proprietario',\n",
    "                 'zip'\n",
    "            ]"
   ]
  },
  {
   "cell_type": "code",
   "execution_count": 4,
   "metadata": {},
   "outputs": [],
   "source": [
    "df_raw = (df_raw.astype({'Anno':'datetime64[ns]', 'date':'datetime64[ns]'})\n",
    "    .assign(age_years= lambda x: (x['date'] - x['Anno']) / np.timedelta64(1, 'Y'))\n",
    "    .drop(columns=[col for col in df_raw.columns if col not in final_col])\n",
    "    .dropna(subset=['price', 'potenza_kw', 'age_years', 'Chilometraggio'])\n",
    ")\n",
    "    "
   ]
  },
  {
   "cell_type": "code",
   "execution_count": 5,
   "metadata": {},
   "outputs": [],
   "source": [
    "df_train, df_test = train_test_split(df_raw, test_size=0.1)"
   ]
  },
  {
   "cell_type": "markdown",
   "metadata": {},
   "source": [
    "## Loss Functions"
   ]
  },
  {
   "cell_type": "code",
   "execution_count": 32,
   "metadata": {},
   "outputs": [],
   "source": [
    "def rmse_loss(y_true, y_pred):\n",
    "    return mean_squared_error(y_true, y_pred, squared=False)\n",
    "\n",
    "def rmspe_loss(y_true, y_pred):\n",
    "    return np.mean((y_true-y_pred)**2/y_true**2)**0.5\n",
    "\n",
    "def mape_loss(y_true, y_pred):\n",
    "    return np.mean(np.abs(y_true-y_pred)/y_true)\n",
    "\n",
    "rmse = make_scorer(rmse_loss, greater_is_better=False)\n",
    "mae = make_scorer(mean_absolute_error, greater_is_better=False)\n",
    "rmspe = make_scorer(rmspe_loss, greater_is_better=False)\n",
    "mape = make_scorer(mape_loss, greater_is_better=False)"
   ]
  },
  {
   "cell_type": "markdown",
   "metadata": {},
   "source": [
    "## Baseline"
   ]
  },
  {
   "cell_type": "markdown",
   "metadata": {},
   "source": [
    "Most simple baseline: using the mean/median as prediciton"
   ]
  },
  {
   "cell_type": "code",
   "execution_count": 38,
   "metadata": {},
   "outputs": [
    {
     "name": "stdout",
     "output_type": "stream",
     "text": [
      "Baseline (mean/rms): 152239\n",
      "Baseline (median/mae): 13383\n"
     ]
    }
   ],
   "source": [
    "price_mean = float(df_train['price'].mean())\n",
    "price_median = float(df_train['price'].median())\n",
    "\n",
    "rmse_mean = rmse_loss(df_test['price'].to_numpy(), np.ones(len(df_test))*price_mean)\n",
    "mae_median = mean_absolute_error(df_test['price'].to_numpy(), np.ones(len(df_test))*price_median)\n",
    "\n",
    "print(f'Baseline (mean/rms): {rmse_mean:.0f}')\n",
    "print(f'Baseline (median/mae): {mae_median:.0f}')"
   ]
  },
  {
   "cell_type": "markdown",
   "metadata": {},
   "source": [
    "## Linear Models"
   ]
  },
  {
   "cell_type": "code",
   "execution_count": 8,
   "metadata": {},
   "outputs": [],
   "source": [
    "lm_num_features = ['age_years', 'potenza_kw', 'Chilometraggio']\n",
    "lm_cat_features = ['Tipo_di_cambio', 'Trazione', 'Carrozzeria']"
   ]
  },
  {
   "cell_type": "code",
   "execution_count": 9,
   "metadata": {},
   "outputs": [],
   "source": [
    "#Numerical features pipeline\n",
    "lm_num_transformer = make_pipeline(\n",
    "    SimpleImputer(strategy='median'),\n",
    "    StandardScaler()\n",
    ")\n",
    "\n",
    "\n",
    "#Categorical features pipeline\n",
    "lm_cat_transformer = make_pipeline(\n",
    "    SimpleImputer(strategy='most_frequent'),\n",
    "    OneHotEncoder(sparse=False, handle_unknown='ignore')\n",
    ")\n",
    "\n",
    "# Preprocessing pipeline\n",
    "lm_preprocessor = make_column_transformer(\n",
    "    (lm_num_transformer, lm_num_features),\n",
    "    (lm_cat_transformer, lm_cat_features),\n",
    "    remainder='drop'\n",
    ")\n",
    "\n",
    "\n",
    "# Full model pipeline\n",
    "lm_model = make_pipeline(\n",
    "    lm_preprocessor,\n",
    "    LinearRegression()    \n",
    ")"
   ]
  },
  {
   "cell_type": "code",
   "execution_count": 10,
   "metadata": {},
   "outputs": [],
   "source": [
    "X_train, X_test, y_train, y_test = train_test_split(df_train.drop(columns=['price']), df_train['price'], test_size=0.2, random_state=42\n",
    ")"
   ]
  },
  {
   "cell_type": "code",
   "execution_count": 11,
   "metadata": {},
   "outputs": [
    {
     "data": {
      "text/plain": [
       "Pipeline(steps=[('columntransformer',\n",
       "                 ColumnTransformer(transformers=[('pipeline-1',\n",
       "                                                  Pipeline(steps=[('simpleimputer',\n",
       "                                                                   SimpleImputer(strategy='median')),\n",
       "                                                                  ('standardscaler',\n",
       "                                                                   StandardScaler())]),\n",
       "                                                  ['age_years', 'potenza_kw',\n",
       "                                                   'Chilometraggio']),\n",
       "                                                 ('pipeline-2',\n",
       "                                                  Pipeline(steps=[('simpleimputer',\n",
       "                                                                   SimpleImputer(strategy='most_frequent')),\n",
       "                                                                  ('onehotencoder',\n",
       "                                                                   OneHotEncoder(handle_unknown='ignore',\n",
       "                                                                                 sparse=False))]),\n",
       "                                                  ['Tipo_di_cambio', 'Trazione',\n",
       "                                                   'Carrozzeria'])])),\n",
       "                ('linearregression', LinearRegression())])"
      ]
     },
     "execution_count": 11,
     "metadata": {},
     "output_type": "execute_result"
    }
   ],
   "source": [
    "lm_model.fit(X_train, y_train)"
   ]
  },
  {
   "cell_type": "code",
   "execution_count": 41,
   "metadata": {},
   "outputs": [
    {
     "name": "stdout",
     "output_type": "stream",
     "text": [
      "rmse lmcat train: 21943\n",
      "rmse lmcat test: 107951\n"
     ]
    }
   ],
   "source": [
    "print(f'rmse lmcat train: {rmse_loss(y_train, lm_model.predict(X_train)):.0f}')\n",
    "print(f'rmse lmcat test: {rmse_loss(y_test, lm_model.predict(X_test)):.0f}')"
   ]
  },
  {
   "cell_type": "code",
   "execution_count": 42,
   "metadata": {},
   "outputs": [
    {
     "name": "stdout",
     "output_type": "stream",
     "text": [
      "mape lmcat train: 254.7\n",
      "mape lmcat test: 46.5\n"
     ]
    }
   ],
   "source": [
    "print(f'mape lmcat train: {mape_loss(y_train, lm_model.predict(X_train))*100:.1f}')\n",
    "print(f'mape lmcat test: {mape_loss(y_test, lm_model.predict(X_test))*100:.1f}')"
   ]
  },
  {
   "cell_type": "code",
   "execution_count": 16,
   "metadata": {},
   "outputs": [
    {
     "data": {
      "text/plain": [
       "(-100000.0, 100000.0)"
      ]
     },
     "execution_count": 16,
     "metadata": {},
     "output_type": "execute_result"
    },
    {
     "data": {
      "image/png": "[encoded data removed]",
      "text/plain": [
       "<Figure size 432x288 with 1 Axes>"
      ]
     },
     "metadata": {},
     "output_type": "display_data"
    }
   ],
   "source": [
    "plt.plot((y_train-lm_model.predict(X_train)).to_numpy(), 'b.')\n",
    "plt.plot((y_test-lm_model.predict(X_test)).to_numpy(), 'r.')\n",
    "plt.ylim(-1e5, 1e5)"
   ]
  },
  {
   "cell_type": "markdown",
   "metadata": {},
   "source": [
    "## Random Forest Model"
   ]
  },
  {
   "cell_type": "code",
   "execution_count": 18,
   "metadata": {},
   "outputs": [],
   "source": [
    "rf_num_features = ['age_years', 'potenza_kw', 'Chilometraggio']\n",
    "rf_cat_features = ['Tipo_di_cambio', 'Trazione', 'Carrozzeria']"
   ]
  },
  {
   "cell_type": "code",
   "execution_count": 19,
   "metadata": {},
   "outputs": [],
   "source": [
    "#Numerical features pipeline\n",
    "rf_num_transformer = make_pipeline(\n",
    "    SimpleImputer(strategy='median'),\n",
    "    StandardScaler()\n",
    ")\n",
    "\n",
    "\n",
    "#Categorical features pipeline\n",
    "rf_cat_transformer = make_pipeline(\n",
    "    SimpleImputer(strategy='most_frequent'),\n",
    "    OneHotEncoder(sparse=False, handle_unknown='ignore')\n",
    ")\n",
    "\n",
    "# Preprocessing pipeline\n",
    "rf_preprocessor = make_column_transformer(\n",
    "    (rf_num_transformer, rf_num_features),\n",
    "    (rf_cat_transformer, rf_cat_features),\n",
    "    remainder='drop'\n",
    ")\n",
    "\n",
    "\n",
    "# Full model pipeline\n",
    "rf_model = make_pipeline(\n",
    "    rf_preprocessor,\n",
    "    RandomForestRegressor()    \n",
    ")"
   ]
  },
  {
   "cell_type": "code",
   "execution_count": 20,
   "metadata": {},
   "outputs": [],
   "source": [
    "X_train, X_test, y_train, y_test = train_test_split(df_train.drop(columns=['price']), df_train['price'], test_size=0.2, random_state=42\n",
    ")"
   ]
  },
  {
   "cell_type": "code",
   "execution_count": 21,
   "metadata": {},
   "outputs": [
    {
     "data": {
      "text/plain": [
       "Pipeline(steps=[('columntransformer',\n",
       "                 ColumnTransformer(transformers=[('pipeline-1',\n",
       "                                                  Pipeline(steps=[('simpleimputer',\n",
       "                                                                   SimpleImputer(strategy='median')),\n",
       "                                                                  ('standardscaler',\n",
       "                                                                   StandardScaler())]),\n",
       "                                                  ['age_years', 'potenza_kw',\n",
       "                                                   'Chilometraggio']),\n",
       "                                                 ('pipeline-2',\n",
       "                                                  Pipeline(steps=[('simpleimputer',\n",
       "                                                                   SimpleImputer(strategy='most_frequent')),\n",
       "                                                                  ('onehotencoder',\n",
       "                                                                   OneHotEncoder(handle_unknown='ignore',\n",
       "                                                                                 sparse=False))]),\n",
       "                                                  ['Tipo_di_cambio', 'Trazione',\n",
       "                                                   'Carrozzeria'])])),\n",
       "                ('randomforestregressor', RandomForestRegressor())])"
      ]
     },
     "execution_count": 21,
     "metadata": {},
     "output_type": "execute_result"
    }
   ],
   "source": [
    "rf_model.fit(X_train, y_train)"
   ]
  },
  {
   "cell_type": "code",
   "execution_count": 43,
   "metadata": {},
   "outputs": [
    {
     "name": "stdout",
     "output_type": "stream",
     "text": [
      "rmse rf train: 7596\n",
      "rmse rf test: 107080\n"
     ]
    }
   ],
   "source": [
    "print(f'rmse rf train: {rmse_loss(y_train, rf_model.predict(X_train)):.0f}')\n",
    "print(f'rmse rf test: {rmse_loss(y_test, rf_model.predict(X_test)):.0f}')"
   ]
  },
  {
   "cell_type": "code",
   "execution_count": 44,
   "metadata": {},
   "outputs": [
    {
     "name": "stdout",
     "output_type": "stream",
     "text": [
      "mape rf train: 76.9\n",
      "mape rf test: 18.1\n"
     ]
    }
   ],
   "source": [
    "print(f'mape rf train: {mape_loss(y_train, rf_model.predict(X_train))*100:.1f}')\n",
    "print(f'mape rf test: {mape_loss(y_test, rf_model.predict(X_test))*100:.1f}')"
   ]
  },
  {
   "cell_type": "markdown",
   "metadata": {},
   "source": [
    "## XGB Model"
   ]
  },
  {
   "cell_type": "code",
   "execution_count": 27,
   "metadata": {},
   "outputs": [],
   "source": [
    "# Full model pipeline\n",
    "xg_model = make_pipeline(\n",
    "    rf_preprocessor,\n",
    "    XGBRegressor()    \n",
    ")"
   ]
  },
  {
   "cell_type": "code",
   "execution_count": 28,
   "metadata": {},
   "outputs": [
    {
     "data": {
      "text/plain": [
       "Pipeline(steps=[('columntransformer',\n",
       "                 ColumnTransformer(transformers=[('pipeline-1',\n",
       "                                                  Pipeline(steps=[('simpleimputer',\n",
       "                                                                   SimpleImputer(strategy='median')),\n",
       "                                                                  ('standardscaler',\n",
       "                                                                   StandardScaler())]),\n",
       "                                                  ['age_years', 'potenza_kw',\n",
       "                                                   'Chilometraggio']),\n",
       "                                                 ('pipeline-2',\n",
       "                                                  Pipeline(steps=[('simpleimputer',\n",
       "                                                                   SimpleImputer(strategy='most_frequent')),\n",
       "                                                                  ('onehotencoder',\n",
       "                                                                   OneHotEncode...\n",
       "                              gamma=0, gpu_id=-1, importance_type=None,\n",
       "                              interaction_constraints='',\n",
       "                              learning_rate=0.300000012, max_delta_step=0,\n",
       "                              max_depth=6, min_child_weight=1, missing=nan,\n",
       "                              monotone_constraints='()', n_estimators=100,\n",
       "                              n_jobs=8, num_parallel_tree=1, predictor='auto',\n",
       "                              random_state=0, reg_alpha=0, reg_lambda=1,\n",
       "                              scale_pos_weight=1, subsample=1,\n",
       "                              tree_method='exact', validate_parameters=1,\n",
       "                              verbosity=None))])"
      ]
     },
     "execution_count": 28,
     "metadata": {},
     "output_type": "execute_result"
    }
   ],
   "source": [
    "xg_model.fit(X_train, y_train)"
   ]
  },
  {
   "cell_type": "code",
   "execution_count": 45,
   "metadata": {},
   "outputs": [
    {
     "name": "stdout",
     "output_type": "stream",
     "text": [
      "rmse xg train: 4255\n",
      "rmse xg test: 108123\n"
     ]
    }
   ],
   "source": [
    "print(f'rmse xg train: {rmse_loss(y_train, xg_model.predict(X_train)):.0f}')\n",
    "print(f'rmse xg test: {rmse_loss(y_test, xg_model.predict(X_test)):.0f}')"
   ]
  },
  {
   "cell_type": "code",
   "execution_count": 17,
   "metadata": {},
   "outputs": [
    {
     "data": {
      "text/html": [
       "<div>\n",
       "<style scoped>\n",
       "    .dataframe tbody tr th:only-of-type {\n",
       "        vertical-align: middle;\n",
       "    }\n",
       "\n",
       "    .dataframe tbody tr th {\n",
       "        vertical-align: top;\n",
       "    }\n",
       "\n",
       "    .dataframe thead th {\n",
       "        text-align: right;\n",
       "    }\n",
       "</style>\n",
       "<table border=\"1\" class=\"dataframe\">\n",
       "  <thead>\n",
       "    <tr style=\"text-align: right;\">\n",
       "      <th>maker</th>\n",
       "      <th>Lamborghini</th>\n",
       "      <th>McLaren</th>\n",
       "      <th>Ferrari</th>\n",
       "      <th>Rolls-Royce</th>\n",
       "      <th>Aston Martin</th>\n",
       "      <th>Porsche</th>\n",
       "      <th>Lotus</th>\n",
       "      <th>Alpine</th>\n",
       "      <th>Bentley</th>\n",
       "      <th>Caterham</th>\n",
       "      <th>Austin-Healey</th>\n",
       "      <th>Morgan</th>\n",
       "      <th>Maserati</th>\n",
       "      <th>HUMMER</th>\n",
       "      <th>RAM</th>\n",
       "      <th>Tesla</th>\n",
       "      <th>Corvette</th>\n",
       "      <th>Land Rover</th>\n",
       "      <th>Puch</th>\n",
       "      <th>Buick</th>\n",
       "      <th>Maxus</th>\n",
       "      <th>Cupra</th>\n",
       "      <th>Lynk \\u0026 Co</th>\n",
       "      <th>Triumph</th>\n",
       "      <th>Jaguar</th>\n",
       "      <th>Audi</th>\n",
       "      <th>Lexus</th>\n",
       "      <th>Daimler</th>\n",
       "      <th>Mercedes-Benz</th>\n",
       "      <th>Dodge</th>\n",
       "      <th>BMW</th>\n",
       "      <th>DS Automobiles</th>\n",
       "      <th>Jeep</th>\n",
       "      <th>Volvo</th>\n",
       "      <th>MG</th>\n",
       "      <th>Alfa Romeo</th>\n",
       "      <th>Abarth</th>\n",
       "      <th>Isuzu</th>\n",
       "      <th>Oldtimer</th>\n",
       "      <th>Ford</th>\n",
       "      <th>Altro</th>\n",
       "      <th>Volkswagen</th>\n",
       "      <th>Renault</th>\n",
       "      <th>Skoda</th>\n",
       "      <th>MINI</th>\n",
       "      <th>Subaru</th>\n",
       "      <th>Infiniti</th>\n",
       "      <th>Mazda</th>\n",
       "      <th>Austin</th>\n",
       "      <th>Nissan</th>\n",
       "      <th>GMC</th>\n",
       "      <th>DR Motor</th>\n",
       "      <th>Lincoln</th>\n",
       "      <th>Iveco</th>\n",
       "      <th>EVO</th>\n",
       "      <th>Peugeot</th>\n",
       "      <th>SEAT</th>\n",
       "      <th>Cadillac</th>\n",
       "      <th>Kia</th>\n",
       "      <th>Toyota</th>\n",
       "      <th>Honda</th>\n",
       "      <th>Hyundai</th>\n",
       "      <th>Suzuki</th>\n",
       "      <th>XEV</th>\n",
       "      <th>Panther Westwinds</th>\n",
       "      <th>SsangYong</th>\n",
       "      <th>Mitsubishi</th>\n",
       "      <th>Lada</th>\n",
       "      <th>Dacia</th>\n",
       "      <th>Citroen</th>\n",
       "      <th>Fiat</th>\n",
       "      <th>Opel</th>\n",
       "      <th>Great Wall</th>\n",
       "      <th>Mahindra</th>\n",
       "      <th>smart</th>\n",
       "      <th>Rover</th>\n",
       "      <th>Giotti Victoria</th>\n",
       "      <th>Lancia</th>\n",
       "      <th>Chevrolet</th>\n",
       "      <th>Tazzari EV</th>\n",
       "      <th>VEM</th>\n",
       "      <th>Ligier</th>\n",
       "      <th>Piaggio</th>\n",
       "      <th>UAZ</th>\n",
       "      <th>Autobianchi</th>\n",
       "      <th>Aixam</th>\n",
       "      <th>Dutton</th>\n",
       "      <th>Chatenet</th>\n",
       "      <th>Casalini</th>\n",
       "      <th>Tata</th>\n",
       "      <th>Saab</th>\n",
       "      <th>Chrysler</th>\n",
       "      <th>Innocenti</th>\n",
       "      <th>Daihatsu</th>\n",
       "      <th>Microcar</th>\n",
       "      <th>Talbot</th>\n",
       "      <th>DAF</th>\n",
       "      <th>Grecav</th>\n",
       "      <th>Daewoo</th>\n",
       "    </tr>\n",
       "  </thead>\n",
       "  <tbody>\n",
       "    <tr>\n",
       "      <th>price</th>\n",
       "      <td>278735</td>\n",
       "      <td>227400</td>\n",
       "      <td>208102</td>\n",
       "      <td>190300</td>\n",
       "      <td>124091</td>\n",
       "      <td>80221</td>\n",
       "      <td>68413</td>\n",
       "      <td>61000</td>\n",
       "      <td>59616</td>\n",
       "      <td>58000</td>\n",
       "      <td>57300</td>\n",
       "      <td>55000</td>\n",
       "      <td>54628</td>\n",
       "      <td>49992</td>\n",
       "      <td>49000</td>\n",
       "      <td>47620</td>\n",
       "      <td>44900</td>\n",
       "      <td>39681</td>\n",
       "      <td>38000</td>\n",
       "      <td>37000</td>\n",
       "      <td>36222</td>\n",
       "      <td>35447</td>\n",
       "      <td>34084</td>\n",
       "      <td>33375</td>\n",
       "      <td>32404</td>\n",
       "      <td>31865</td>\n",
       "      <td>30461</td>\n",
       "      <td>29980</td>\n",
       "      <td>29880</td>\n",
       "      <td>28273</td>\n",
       "      <td>28088</td>\n",
       "      <td>25740</td>\n",
       "      <td>25428</td>\n",
       "      <td>24843</td>\n",
       "      <td>24836</td>\n",
       "      <td>23383</td>\n",
       "      <td>22304</td>\n",
       "      <td>21201</td>\n",
       "      <td>20960</td>\n",
       "      <td>20404</td>\n",
       "      <td>20043</td>\n",
       "      <td>19395</td>\n",
       "      <td>19307</td>\n",
       "      <td>18930</td>\n",
       "      <td>18872</td>\n",
       "      <td>18544</td>\n",
       "      <td>18442</td>\n",
       "      <td>18259</td>\n",
       "      <td>18175</td>\n",
       "      <td>18122</td>\n",
       "      <td>18000</td>\n",
       "      <td>17805</td>\n",
       "      <td>17400</td>\n",
       "      <td>17132</td>\n",
       "      <td>16991</td>\n",
       "      <td>16781</td>\n",
       "      <td>16749</td>\n",
       "      <td>16710</td>\n",
       "      <td>16682</td>\n",
       "      <td>16186</td>\n",
       "      <td>15769</td>\n",
       "      <td>15529</td>\n",
       "      <td>15235</td>\n",
       "      <td>15190</td>\n",
       "      <td>15000</td>\n",
       "      <td>14803</td>\n",
       "      <td>14231</td>\n",
       "      <td>14000</td>\n",
       "      <td>13433</td>\n",
       "      <td>13424</td>\n",
       "      <td>13340</td>\n",
       "      <td>13297</td>\n",
       "      <td>12946</td>\n",
       "      <td>12542</td>\n",
       "      <td>12316</td>\n",
       "      <td>12267</td>\n",
       "      <td>11833</td>\n",
       "      <td>11059</td>\n",
       "      <td>10340</td>\n",
       "      <td>10000</td>\n",
       "      <td>9990</td>\n",
       "      <td>9833</td>\n",
       "      <td>9246</td>\n",
       "      <td>9200</td>\n",
       "      <td>9073</td>\n",
       "      <td>9005</td>\n",
       "      <td>9000</td>\n",
       "      <td>8433</td>\n",
       "      <td>7767</td>\n",
       "      <td>6786</td>\n",
       "      <td>6635</td>\n",
       "      <td>6623</td>\n",
       "      <td>6587</td>\n",
       "      <td>6500</td>\n",
       "      <td>6500</td>\n",
       "      <td>5900</td>\n",
       "      <td>4250</td>\n",
       "      <td>3000</td>\n",
       "      <td>1496</td>\n",
       "    </tr>\n",
       "  </tbody>\n",
       "</table>\n",
       "</div>"
      ],
      "text/plain": [
       "maker  Lamborghini  McLaren  Ferrari  Rolls-Royce  Aston Martin  Porsche  \\\n",
       "price       278735   227400   208102       190300        124091    80221   \n",
       "\n",
       "maker  Lotus  Alpine  Bentley  Caterham  Austin-Healey  Morgan  Maserati  \\\n",
       "price  68413   61000    59616     58000          57300   55000     54628   \n",
       "\n",
       "maker  HUMMER   RAM  Tesla  Corvette  Land Rover  Puch  Buick  Maxus  Cupra  \\\n",
       "price   49992 49000  47620     44900       39681 38000  37000  36222  35447   \n",
       "\n",
       "maker  Lynk \\u0026 Co  Triumph  Jaguar  Audi  Lexus  Daimler  Mercedes-Benz  \\\n",
       "price           34084    33375   32404 31865  30461    29980          29880   \n",
       "\n",
       "maker  Dodge   BMW  DS Automobiles  Jeep  Volvo    MG  Alfa Romeo  Abarth  \\\n",
       "price  28273 28088           25740 25428  24843 24836       23383   22304   \n",
       "\n",
       "maker  Isuzu  Oldtimer  Ford  Altro  Volkswagen  Renault  Skoda  MINI  Subaru  \\\n",
       "price  21201     20960 20404  20043       19395    19307  18930 18872   18544   \n",
       "\n",
       "maker  Infiniti  Mazda  Austin  Nissan   GMC  DR Motor  Lincoln  Iveco   EVO  \\\n",
       "price     18442  18259   18175   18122 18000     17805    17400  17132 16991   \n",
       "\n",
       "maker  Peugeot  SEAT  Cadillac   Kia  Toyota  Honda  Hyundai  Suzuki   XEV  \\\n",
       "price    16781 16749     16710 16682   16186  15769    15529   15235 15190   \n",
       "\n",
       "maker  Panther Westwinds  SsangYong  Mitsubishi  Lada  Dacia  Citroen  Fiat  \\\n",
       "price              15000      14803       14231 14000  13433    13424 13340   \n",
       "\n",
       "maker  Opel  Great Wall  Mahindra  smart  Rover  Giotti Victoria  Lancia  \\\n",
       "price 13297       12946     12542  12316  12267            11833   11059   \n",
       "\n",
       "maker  Chevrolet  Tazzari EV  VEM  Ligier  Piaggio  UAZ  Autobianchi  Aixam  \\\n",
       "price      10340       10000 9990    9833     9246 9200         9073   9005   \n",
       "\n",
       "maker  Dutton  Chatenet  Casalini  Tata  Saab  Chrysler  Innocenti  Daihatsu  \\\n",
       "price    9000      8433      7767  6786  6635      6623       6587      6500   \n",
       "\n",
       "maker  Microcar  Talbot  DAF  Grecav  Daewoo  \n",
       "price      6500    5900 4250    3000    1496  "
      ]
     },
     "metadata": {},
     "output_type": "display_data"
    }
   ],
   "source": [
    "with pd.option_context('display.max_rows', None, 'display.max_columns', None, 'display.float_format', '{:.0f}'.format):\n",
    "    display(df_raw.groupby('maker')['price'].apply(np.mean).sort_values(ascending=False).to_frame().T)"
   ]
  }
 ],
 "metadata": {
  "kernelspec": {
   "display_name": "Python 3",
   "language": "python",
   "name": "python3"
  },
  "language_info": {
   "codemirror_mode": {
    "name": "ipython",
    "version": 3
   },
   "file_extension": ".py",
   "mimetype": "text/x-python",
   "name": "python",
   "nbconvert_exporter": "python",
   "pygments_lexer": "ipython3",
   "version": "3.7.15"
  }
 },
 "nbformat": 4,
 "nbformat_minor": 4
}
