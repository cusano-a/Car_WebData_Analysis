{
 "cells": [
  {
   "cell_type": "code",
   "execution_count": 1,
   "metadata": {},
   "outputs": [],
   "source": [
    "import pandas as pd\n",
    "import numpy as np\n",
    "import matplotlib.pyplot as plt\n",
    "import seaborn as sns\n",
    "import os\n",
    "import sklearn\n",
    "\n",
    "from sklearn.utils import shuffle\n",
    "from sklearn.model_selection import train_test_split, GridSearchCV\n",
    "from sklearn.metrics import mean_squared_error, mean_absolute_error\n",
    "from sklearn.metrics import make_scorer\n",
    "from pandas.api.types import CategoricalDtype\n",
    "from time import perf_counter\n",
    "from xgboost import XGBRegressor\n",
    "\n",
    "\n",
    "from sklearn.ensemble import RandomForestRegressor\n",
    "from sklearn.linear_model import LinearRegression, Ridge\n",
    "from sklearn.compose import make_column_transformer\n",
    "from sklearn.preprocessing import StandardScaler, OneHotEncoder, PolynomialFeatures\n",
    "from sklearn.pipeline import make_pipeline\n",
    "from sklearn.impute import SimpleImputer"
   ]
  },
  {
   "cell_type": "code",
   "execution_count": 2,
   "metadata": {},
   "outputs": [],
   "source": [
    "%matplotlib inline\n",
    "sns.set_theme()"
   ]
  },
  {
   "cell_type": "markdown",
   "metadata": {},
   "source": [
    "## Loding Data"
   ]
  },
  {
   "cell_type": "markdown",
   "metadata": {},
   "source": [
    "Load the full car datset. Keep only a subset of columns useful for prediction.\n",
    "Drop samples with key features missing (mileage, age, price, power). Split the df in train and test. "
   ]
  },
  {
   "cell_type": "code",
   "execution_count": 3,
   "metadata": {},
   "outputs": [],
   "source": [
    "file_path = os.path.join(\"data\", \"autoscout_dataset.csv\")\n",
    "df_raw = pd.read_csv(file_path, sep=\";\", index_col=\"url\")"
   ]
  },
  {
   "cell_type": "code",
   "execution_count": 4,
   "metadata": {},
   "outputs": [],
   "source": [
    "final_col = ['Carburante',\n",
    "                 'Carrozzeria',\n",
    "                 'Chilometraggio',\n",
    "                 'Cilindrata_cm3',\n",
    "                 'Cilindri',\n",
    "                 'Colore',\n",
    "                 'Consumo_comb_L100km',\n",
    "                 'Consumo_extraurb_L100km',\n",
    "                 'Consumo_urb_L100km',\n",
    "                 'Marce',\n",
    "                 'Peso_a_vuoto_kg',\n",
    "                 'Tagliandi_certificati',\n",
    "                 'Tipo_di_cambio',\n",
    "                 'Trazione',\n",
    "                 'country',\n",
    "                 'makeId',\n",
    "                 'maker',\n",
    "                 'model',\n",
    "                 'modelOrModelLineId',\n",
    "                 'potenza_kw',\n",
    "                 'price',\n",
    "                 'unico_proprietario',\n",
    "                 'zip'\n",
    "            ]"
   ]
  },
  {
   "cell_type": "code",
   "execution_count": 5,
   "metadata": {},
   "outputs": [],
   "source": [
    "df_raw = (df_raw.astype({'Anno':'datetime64[ns]', 'date':'datetime64[ns]'})\n",
    "    .assign(age_years= lambda x: (x['date'] - x['Anno']) / np.timedelta64(1, 'Y'))\n",
    "    .drop(columns=[col for col in df_raw.columns if col not in final_col])\n",
    "    .dropna(subset=['price', 'potenza_kw', 'age_years', 'Chilometraggio'])\n",
    ")\n",
    "    "
   ]
  },
  {
   "cell_type": "code",
   "execution_count": 6,
   "metadata": {},
   "outputs": [],
   "source": [
    "df_train, df_test = train_test_split(df_raw, test_size=0.1)"
   ]
  },
  {
   "cell_type": "markdown",
   "metadata": {},
   "source": [
    "## Loss Functions"
   ]
  },
  {
   "cell_type": "code",
   "execution_count": 7,
   "metadata": {},
   "outputs": [],
   "source": [
    "def rmse_loss(y_true, y_pred):\n",
    "    return mean_squared_error(y_true, y_pred)**0.5\n",
    "\n",
    "def rmspe_loss(y_true, y_pred):\n",
    "    return np.mean((y_true-y_pred)**2/y_true**2)**0.5\n",
    "\n",
    "def mape_loss(y_true, y_pred):\n",
    "    return np.mean(np.abs(y_true-y_pred)/y_true)\n",
    "\n",
    "rmse = make_scorer(rmse_loss, greater_is_better=False)\n",
    "mae = make_scorer(mean_absolute_error, greater_is_better=False)\n",
    "rmspe = make_scorer(rmspe_loss, greater_is_better=False)\n",
    "mape = make_scorer(mape_loss, greater_is_better=False)"
   ]
  },
  {
   "cell_type": "markdown",
   "metadata": {},
   "source": [
    "## Baseline"
   ]
  },
  {
   "cell_type": "code",
   "execution_count": 17,
   "metadata": {},
   "outputs": [
    {
     "name": "stdout",
     "output_type": "stream",
     "text": [
      "Baseline (mean/rms): 18165\n",
      "Baseline (median/mae): 10798\n"
     ]
    }
   ],
   "source": [
    "price_mean = float(df_train['price'].mean())\n",
    "price_median = float(df_train['price'].median())\n",
    "\n",
    "rmse_mean = rmse_loss(df_test['price'].to_numpy(), np.ones(len(df_test))*price_mean)\n",
    "mae_median = mean_absolute_error(df_test['price'].to_numpy(), np.ones(len(df_test))*price_median)\n",
    "\n",
    "print(f'Baseline (mean/rms): {rmse_mean:.0f}')\n",
    "print(f'Baseline (median/mae): {mae_median:.0f}')"
   ]
  },
  {
   "cell_type": "markdown",
   "metadata": {},
   "source": [
    "## Linear Models"
   ]
  },
  {
   "cell_type": "code",
   "execution_count": 9,
   "metadata": {},
   "outputs": [],
   "source": [
    "lm_num_features = ['age_years', 'potenza_kw', 'Chilometraggio']\n",
    "lm_cat_features = ['Tipo_di_cambio', 'Trazione', 'Carrozzeria']"
   ]
  },
  {
   "cell_type": "code",
   "execution_count": 10,
   "metadata": {},
   "outputs": [],
   "source": [
    "#Numerical features pipeline\n",
    "lm_num_transformer = make_pipeline(\n",
    "    SimpleImputer(strategy='median'),\n",
    "    StandardScaler()\n",
    ")\n",
    "\n",
    "\n",
    "#Categorical features pipeline\n",
    "lm_cat_transformer = make_pipeline(\n",
    "    SimpleImputer(strategy='most_frequent'),\n",
    "    OneHotEncoder(sparse=False, handle_unknown='ignore')\n",
    ")\n",
    "\n",
    "# Preprocessing pipeline\n",
    "lm_preprocessor = make_column_transformer(\n",
    "    (lm_num_transformer, lm_num_features),\n",
    "    (lm_cat_transformer, lm_cat_features),\n",
    "    remainder='drop'\n",
    ")\n",
    "\n",
    "\n",
    "# Full model pipeline\n",
    "lm_model = make_pipeline(\n",
    "    lm_preprocessor,\n",
    "    LinearRegression()    \n",
    ")"
   ]
  },
  {
   "cell_type": "code",
   "execution_count": 11,
   "metadata": {},
   "outputs": [],
   "source": [
    "X_train, X_test, y_train, y_test = train_test_split(df_train.drop(columns=['price']), df_train['price'], test_size=0.2, random_state=42\n",
    ")"
   ]
  },
  {
   "cell_type": "code",
   "execution_count": 12,
   "metadata": {},
   "outputs": [
    {
     "data": {
      "text/plain": [
       "Pipeline(steps=[('columntransformer',\n",
       "                 ColumnTransformer(transformers=[('pipeline-1',\n",
       "                                                  Pipeline(steps=[('simpleimputer',\n",
       "                                                                   SimpleImputer(strategy='median')),\n",
       "                                                                  ('standardscaler',\n",
       "                                                                   StandardScaler())]),\n",
       "                                                  ['age_years', 'potenza_kw',\n",
       "                                                   'Chilometraggio']),\n",
       "                                                 ('pipeline-2',\n",
       "                                                  Pipeline(steps=[('simpleimputer',\n",
       "                                                                   SimpleImputer(strategy='most_frequent')),\n",
       "                                                                  ('onehotencoder',\n",
       "                                                                   OneHotEncoder(handle_unknown='ignore',\n",
       "                                                                                 sparse=False))]),\n",
       "                                                  ['Tipo_di_cambio', 'Trazione',\n",
       "                                                   'Carrozzeria'])])),\n",
       "                ('linearregression', LinearRegression())])"
      ]
     },
     "execution_count": 12,
     "metadata": {},
     "output_type": "execute_result"
    }
   ],
   "source": [
    "lm_model.fit(X_train, y_train)"
   ]
  },
  {
   "cell_type": "code",
   "execution_count": 18,
   "metadata": {},
   "outputs": [
    {
     "name": "stdout",
     "output_type": "stream",
     "text": [
      "rmse lmcat train: 18675.6\n",
      "rmse lmcat test: 19299.8\n"
     ]
    }
   ],
   "source": [
    "print(f'rmse lmcat train: {rmse_loss(y_train, lm_model.predict(X_train)):.0f}')\n",
    "print(f'rmse lmcat test: {rmse_loss(y_test, lm_model.predict(X_test)):.0f}')"
   ]
  },
  {
   "cell_type": "code",
   "execution_count": 22,
   "metadata": {},
   "outputs": [
    {
     "name": "stdout",
     "output_type": "stream",
     "text": [
      "mape lmcat train: 57.8\n",
      "mape lmcat test: 55.1\n"
     ]
    }
   ],
   "source": [
    "print(f'mape lmcat train: {mape_loss(y_train, lm_model.predict(X_train))*100:.1f}')\n",
    "print(f'mape lmcat test: {mape_loss(y_test, lm_model.predict(X_test))*100:.1f}')"
   ]
  },
  {
   "cell_type": "code",
   "execution_count": 13,
   "metadata": {},
   "outputs": [
    {
     "data": {
      "text/plain": [
       "(-100000.0, 100000.0)"
      ]
     },
     "execution_count": 13,
     "metadata": {},
     "output_type": "execute_result"
    },
    {
     "data": {
      "image/png": "[encoded data removed]",
      "text/plain": [
       "<Figure size 432x288 with 1 Axes>"
      ]
     },
     "metadata": {},
     "output_type": "display_data"
    }
   ],
   "source": [
    "plt.plot((y_train-lm_model.predict(X_train)).to_numpy(), 'b.')\n",
    "plt.plot((y_test-lm_model.predict(X_test)).to_numpy(), 'r.')\n",
    "plt.ylim(-1e5, 1e5)"
   ]
  },
  {
   "cell_type": "markdown",
   "metadata": {},
   "source": [
    "## Random Forest Model"
   ]
  },
  {
   "cell_type": "markdown",
   "metadata": {},
   "source": [
    "## XGB Model"
   ]
  },
  {
   "cell_type": "code",
   "execution_count": 14,
   "metadata": {},
   "outputs": [
    {
     "data": {
      "text/html": [
       "<div>\n",
       "<style scoped>\n",
       "    .dataframe tbody tr th:only-of-type {\n",
       "        vertical-align: middle;\n",
       "    }\n",
       "\n",
       "    .dataframe tbody tr th {\n",
       "        vertical-align: top;\n",
       "    }\n",
       "\n",
       "    .dataframe thead th {\n",
       "        text-align: right;\n",
       "    }\n",
       "</style>\n",
       "<table border=\"1\" class=\"dataframe\">\n",
       "  <thead>\n",
       "    <tr style=\"text-align: right;\">\n",
       "      <th>maker</th>\n",
       "      <th>Ferrari</th>\n",
       "      <th>Lamborghini</th>\n",
       "      <th>Aston Martin</th>\n",
       "      <th>Porsche</th>\n",
       "      <th>Alpine</th>\n",
       "      <th>Caterham</th>\n",
       "      <th>Austin-Healey</th>\n",
       "      <th>Lotus</th>\n",
       "      <th>Morgan</th>\n",
       "      <th>Maserati</th>\n",
       "      <th>Tesla</th>\n",
       "      <th>Cupra</th>\n",
       "      <th>Jaguar</th>\n",
       "      <th>Land Rover</th>\n",
       "      <th>RAM</th>\n",
       "      <th>Audi</th>\n",
       "      <th>Lexus</th>\n",
       "      <th>SsangYong</th>\n",
       "      <th>DR Motor</th>\n",
       "      <th>Mercedes-Benz</th>\n",
       "      <th>Volvo</th>\n",
       "      <th>DS Automobiles</th>\n",
       "      <th>Jeep</th>\n",
       "      <th>BMW</th>\n",
       "      <th>Abarth</th>\n",
       "      <th>Infiniti</th>\n",
       "      <th>Alfa Romeo</th>\n",
       "      <th>Dodge</th>\n",
       "      <th>HUMMER</th>\n",
       "      <th>Volkswagen</th>\n",
       "      <th>GMC</th>\n",
       "      <th>Subaru</th>\n",
       "      <th>MINI</th>\n",
       "      <th>Skoda</th>\n",
       "      <th>EVO</th>\n",
       "      <th>Mazda</th>\n",
       "      <th>SEAT</th>\n",
       "      <th>Toyota</th>\n",
       "      <th>Renault</th>\n",
       "      <th>Iveco</th>\n",
       "      <th>Mitsubishi</th>\n",
       "      <th>Nissan</th>\n",
       "      <th>Kia</th>\n",
       "      <th>Hyundai</th>\n",
       "      <th>Peugeot</th>\n",
       "      <th>Great Wall</th>\n",
       "      <th>Panther Westwinds</th>\n",
       "      <th>Ford</th>\n",
       "      <th>Isuzu</th>\n",
       "      <th>Citroen</th>\n",
       "      <th>Cadillac</th>\n",
       "      <th>Chevrolet</th>\n",
       "      <th>Suzuki</th>\n",
       "      <th>Fiat</th>\n",
       "      <th>smart</th>\n",
       "      <th>Honda</th>\n",
       "      <th>Opel</th>\n",
       "      <th>Dacia</th>\n",
       "      <th>MG</th>\n",
       "      <th>Mahindra</th>\n",
       "      <th>Rover</th>\n",
       "      <th>Piaggio</th>\n",
       "      <th>Lancia</th>\n",
       "      <th>Dutton</th>\n",
       "      <th>Chatenet</th>\n",
       "      <th>Aixam</th>\n",
       "      <th>Daihatsu</th>\n",
       "      <th>Chrysler</th>\n",
       "      <th>Tata</th>\n",
       "      <th>Talbot</th>\n",
       "      <th>Daewoo</th>\n",
       "    </tr>\n",
       "  </thead>\n",
       "  <tbody>\n",
       "    <tr>\n",
       "      <th>price</th>\n",
       "      <td>209500</td>\n",
       "      <td>145000</td>\n",
       "      <td>141833</td>\n",
       "      <td>98694</td>\n",
       "      <td>61000</td>\n",
       "      <td>58000</td>\n",
       "      <td>57300</td>\n",
       "      <td>57000</td>\n",
       "      <td>55000</td>\n",
       "      <td>52819</td>\n",
       "      <td>44450</td>\n",
       "      <td>36190</td>\n",
       "      <td>34297</td>\n",
       "      <td>34264</td>\n",
       "      <td>34000</td>\n",
       "      <td>32976</td>\n",
       "      <td>30555</td>\n",
       "      <td>29528</td>\n",
       "      <td>29000</td>\n",
       "      <td>27678</td>\n",
       "      <td>26884</td>\n",
       "      <td>25902</td>\n",
       "      <td>25834</td>\n",
       "      <td>25186</td>\n",
       "      <td>23371</td>\n",
       "      <td>23200</td>\n",
       "      <td>21457</td>\n",
       "      <td>21150</td>\n",
       "      <td>19500</td>\n",
       "      <td>18481</td>\n",
       "      <td>18000</td>\n",
       "      <td>17952</td>\n",
       "      <td>17833</td>\n",
       "      <td>17646</td>\n",
       "      <td>16850</td>\n",
       "      <td>16801</td>\n",
       "      <td>16573</td>\n",
       "      <td>16399</td>\n",
       "      <td>16223</td>\n",
       "      <td>15954</td>\n",
       "      <td>15755</td>\n",
       "      <td>15734</td>\n",
       "      <td>15721</td>\n",
       "      <td>15573</td>\n",
       "      <td>15039</td>\n",
       "      <td>15000</td>\n",
       "      <td>15000</td>\n",
       "      <td>14873</td>\n",
       "      <td>14800</td>\n",
       "      <td>13525</td>\n",
       "      <td>13500</td>\n",
       "      <td>13199</td>\n",
       "      <td>13141</td>\n",
       "      <td>12492</td>\n",
       "      <td>12335</td>\n",
       "      <td>12121</td>\n",
       "      <td>11793</td>\n",
       "      <td>11591</td>\n",
       "      <td>10900</td>\n",
       "      <td>10450</td>\n",
       "      <td>9450</td>\n",
       "      <td>9400</td>\n",
       "      <td>9156</td>\n",
       "      <td>9000</td>\n",
       "      <td>8400</td>\n",
       "      <td>8350</td>\n",
       "      <td>6900</td>\n",
       "      <td>6700</td>\n",
       "      <td>6633</td>\n",
       "      <td>5900</td>\n",
       "      <td>1667</td>\n",
       "    </tr>\n",
       "  </tbody>\n",
       "</table>\n",
       "</div>"
      ],
      "text/plain": [
       "maker  Ferrari  Lamborghini  Aston Martin  Porsche  Alpine  Caterham  \\\n",
       "price   209500       145000        141833    98694   61000     58000   \n",
       "\n",
       "maker  Austin-Healey  Lotus  Morgan  Maserati  Tesla  Cupra  Jaguar  \\\n",
       "price          57300  57000   55000     52819  44450  36190   34297   \n",
       "\n",
       "maker  Land Rover   RAM  Audi  Lexus  SsangYong  DR Motor  Mercedes-Benz  \\\n",
       "price       34264 34000 32976  30555      29528     29000          27678   \n",
       "\n",
       "maker  Volvo  DS Automobiles  Jeep   BMW  Abarth  Infiniti  Alfa Romeo  Dodge  \\\n",
       "price  26884           25902 25834 25186   23371     23200       21457  21150   \n",
       "\n",
       "maker  HUMMER  Volkswagen   GMC  Subaru  MINI  Skoda   EVO  Mazda  SEAT  \\\n",
       "price   19500       18481 18000   17952 17833  17646 16850  16801 16573   \n",
       "\n",
       "maker  Toyota  Renault  Iveco  Mitsubishi  Nissan   Kia  Hyundai  Peugeot  \\\n",
       "price   16399    16223  15954       15755   15734 15721    15573    15039   \n",
       "\n",
       "maker  Great Wall  Panther Westwinds  Ford  Isuzu  Citroen  Cadillac  \\\n",
       "price       15000              15000 14873  14800    13525     13500   \n",
       "\n",
       "maker  Chevrolet  Suzuki  Fiat  smart  Honda  Opel  Dacia    MG  Mahindra  \\\n",
       "price      13199   13141 12492  12335  12121 11793  11591 10900     10450   \n",
       "\n",
       "maker  Rover  Piaggio  Lancia  Dutton  Chatenet  Aixam  Daihatsu  Chrysler  \\\n",
       "price   9450     9400    9156    9000      8400   8350      6900      6700   \n",
       "\n",
       "maker  Tata  Talbot  Daewoo  \n",
       "price  6633    5900    1667  "
      ]
     },
     "metadata": {},
     "output_type": "display_data"
    }
   ],
   "source": [
    "with pd.option_context('display.max_rows', None, 'display.max_columns', None, 'display.float_format', '{:.0f}'.format):\n",
    "    display(df_raw.groupby('maker')['price'].apply(np.mean).sort_values(ascending=False).to_frame().T)"
   ]
  },
  {
   "cell_type": "code",
   "execution_count": null,
   "metadata": {},
   "outputs": [],
   "source": []
  }
 ],
 "metadata": {
  "kernelspec": {
   "display_name": "Python 3",
   "language": "python",
   "name": "python3"
  },
  "language_info": {
   "codemirror_mode": {
    "name": "ipython",
    "version": 3
   },
   "file_extension": ".py",
   "mimetype": "text/x-python",
   "name": "python",
   "nbconvert_exporter": "python",
   "pygments_lexer": "ipython3",
   "version": "3.7.15"
  }
 },
 "nbformat": 4,
 "nbformat_minor": 4
}
